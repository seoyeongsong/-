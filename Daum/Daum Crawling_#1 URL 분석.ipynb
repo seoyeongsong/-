{
 "cells": [
  {
   "cell_type": "markdown",
   "metadata": {},
   "source": [
    "## Daum의 뉴스 기사 댓글 수집하기_[1]\n",
    "### 1) URL 분석\n",
    "- target : 랭킹 뉴스 내 댓글 많은 기사 페이지 <br>\n",
    "- URL 구조 : \"https://media.daum.net/ranking/bestreply\" 와 \"regDate=\"가 연결<br>\n",
    "    - 날짜를 지정하여 일별 기사와 댓글을 수집하자.<br>\n",
    "       --> 날짜를 여섯자리 숫자로 바꾸어 주는 작업이 필요하다."
   ]
  },
  {
   "cell_type": "code",
   "execution_count": 1,
   "metadata": {},
   "outputs": [],
   "source": [
    "import pandas as pd"
   ]
  },
  {
   "cell_type": "code",
   "execution_count": 3,
   "metadata": {},
   "outputs": [],
   "source": [
    "# pandas의 data_range를 사용하여 날짜를 담아준다.\n",
    "date_index = pd.date_range(start=\"20110603\", end=\"20190801\")"
   ]
  },
  {
   "cell_type": "code",
   "execution_count": 5,
   "metadata": {},
   "outputs": [
    {
     "data": {
      "text/plain": [
       "DatetimeIndex(['2011-06-03', '2011-06-04', '2011-06-05', '2011-06-06',\n",
       "               '2011-06-07', '2011-06-08', '2011-06-09', '2011-06-10',\n",
       "               '2011-06-11', '2011-06-12',\n",
       "               ...\n",
       "               '2019-07-23', '2019-07-24', '2019-07-25', '2019-07-26',\n",
       "               '2019-07-27', '2019-07-28', '2019-07-29', '2019-07-30',\n",
       "               '2019-07-31', '2019-08-01'],\n",
       "              dtype='datetime64[ns]', length=2982, freq='D')"
      ]
     },
     "execution_count": 5,
     "metadata": {},
     "output_type": "execute_result"
    }
   ],
   "source": [
    "date_index"
   ]
  },
  {
   "cell_type": "code",
   "execution_count": 16,
   "metadata": {},
   "outputs": [
    {
     "data": {
      "text/plain": [
       "'20110603'"
      ]
     },
     "execution_count": 16,
     "metadata": {},
     "output_type": "execute_result"
    }
   ],
   "source": [
    "date_index.strftime(\"%Y%m%d\")[0]"
   ]
  },
  {
   "cell_type": "code",
   "execution_count": 8,
   "metadata": {},
   "outputs": [],
   "source": [
    "# 1) 날짜 데이터의 포맷을 여섯자리 숫자형식으로 바꾼다.\n",
    "# 2) 위 과정의 결과를 list 형태로 저장한다.\n",
    "date_list = date_index.strftime(\"%Y%m%d\").tolist()"
   ]
  },
  {
   "cell_type": "code",
   "execution_count": 9,
   "metadata": {},
   "outputs": [
    {
     "data": {
      "text/plain": [
       "['20110603',\n",
       " '20110604',\n",
       " '20110605',\n",
       " '20110606',\n",
       " '20110607',\n",
       " '20110608',\n",
       " '20110609',\n",
       " '20110610',\n",
       " '20110611',\n",
       " '20110612']"
      ]
     },
     "execution_count": 9,
     "metadata": {},
     "output_type": "execute_result"
    }
   ],
   "source": [
    "# 변환된 결과를 상위 10개만 확인해보자.\n",
    "date_list[:10]"
   ]
  },
  {
   "cell_type": "code",
   "execution_count": null,
   "metadata": {},
   "outputs": [],
   "source": []
  }
 ],
 "metadata": {
  "kernelspec": {
   "display_name": "Python 3",
   "language": "python",
   "name": "python3"
  },
  "language_info": {
   "codemirror_mode": {
    "name": "ipython",
    "version": 3
   },
   "file_extension": ".py",
   "mimetype": "text/x-python",
   "name": "python",
   "nbconvert_exporter": "python",
   "pygments_lexer": "ipython3",
   "version": "3.7.3"
  }
 },
 "nbformat": 4,
 "nbformat_minor": 2
}
